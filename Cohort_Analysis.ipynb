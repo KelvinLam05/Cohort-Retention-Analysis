{
  "nbformat": 4,
  "nbformat_minor": 0,
  "metadata": {
    "colab": {
      "name": " Cohort Analysis.ipynb",
      "provenance": [],
      "collapsed_sections": [],
      "authorship_tag": "ABX9TyMLM1SDLeW8G6eJ6v9rs3tY",
      "include_colab_link": true
    },
    "kernelspec": {
      "name": "python3",
      "display_name": "Python 3"
    },
    "language_info": {
      "name": "python"
    }
  },
  "cells": [
    {
      "cell_type": "markdown",
      "metadata": {
        "id": "view-in-github",
        "colab_type": "text"
      },
      "source": [
        "<a href=\"https://colab.research.google.com/github/KelvinLam05/Cohort-Retention-Analysis/blob/main/Cohort_Analysis.ipynb\" target=\"_parent\"><img src=\"https://colab.research.google.com/assets/colab-badge.svg\" alt=\"Open In Colab\"/></a>"
      ]
    },
    {
      "cell_type": "markdown",
      "metadata": {
        "id": "gBgJ5CTvHmev"
      },
      "source": [
        "**Goal of the project**\n",
        "\n",
        "The aim of this project will be to perform a cohort analysis."
      ]
    },
    {
      "cell_type": "markdown",
      "metadata": {
        "id": "MuWtnremHRJ_"
      },
      "source": [
        "**Data set information**\n",
        "\n",
        "Detailed data on sales of consumer goods obtained by ‘scanning’ the bar codes for individual products at electronic points of sale in a retail store. The data provide detailed information about quantities, characteristics and values of goods sold as well as their prices.\n",
        "\n",
        "The anonymized dataset includes 64.682 transactions of 5.242 SKU's sold to 22.625 customers during one year."
      ]
    },
    {
      "cell_type": "markdown",
      "metadata": {
        "id": "V_5R5I2YIbs6"
      },
      "source": [
        "**Attribute information**\n",
        "\n",
        "* Date of Sales Transaction\n",
        "\n",
        "* Customer ID\n",
        "\n",
        "* Transaction ID\n",
        "\n",
        "* SKU Category ID\n",
        "\n",
        "* SKU ID\n",
        "\n",
        "* Quantity Sold\n",
        "\n",
        "* Sales Amount"
      ]
    },
    {
      "cell_type": "code",
      "metadata": {
        "id": "FoJSgq3BLEXl"
      },
      "source": [
        "# Importing libraries\n",
        "import pandas as pd\n",
        "import matplotlib.pyplot as plt\n",
        "import warnings\n",
        "import seaborn as sns\n",
        "from operator import attrgetter\n",
        "import matplotlib.colors as mcolors"
      ],
      "execution_count": null,
      "outputs": []
    },
    {
      "cell_type": "code",
      "metadata": {
        "id": "jTAnVZvwLPjK"
      },
      "source": [
        "# Load the data\n",
        "df = pd.read_csv('/content/scanner_data.csv', parse_dates = ['Date'])"
      ],
      "execution_count": null,
      "outputs": []
    },
    {
      "cell_type": "code",
      "metadata": {
        "colab": {
          "base_uri": "https://localhost:8080/",
          "height": 204
        },
        "id": "avvo9pihNTHu",
        "outputId": "5b50a42d-3060-42bb-f423-4b349ec2e116"
      },
      "source": [
        "# Examine the data\n",
        "df.head()"
      ],
      "execution_count": null,
      "outputs": [
        {
          "output_type": "execute_result",
          "data": {
            "text/html": [
              "<div>\n",
              "<style scoped>\n",
              "    .dataframe tbody tr th:only-of-type {\n",
              "        vertical-align: middle;\n",
              "    }\n",
              "\n",
              "    .dataframe tbody tr th {\n",
              "        vertical-align: top;\n",
              "    }\n",
              "\n",
              "    .dataframe thead th {\n",
              "        text-align: right;\n",
              "    }\n",
              "</style>\n",
              "<table border=\"1\" class=\"dataframe\">\n",
              "  <thead>\n",
              "    <tr style=\"text-align: right;\">\n",
              "      <th></th>\n",
              "      <th>Unnamed: 0</th>\n",
              "      <th>Date</th>\n",
              "      <th>Customer_ID</th>\n",
              "      <th>Transaction_ID</th>\n",
              "      <th>SKU_Category</th>\n",
              "      <th>SKU</th>\n",
              "      <th>Quantity</th>\n",
              "      <th>Sales_Amount</th>\n",
              "    </tr>\n",
              "  </thead>\n",
              "  <tbody>\n",
              "    <tr>\n",
              "      <th>0</th>\n",
              "      <td>1</td>\n",
              "      <td>2016-02-01</td>\n",
              "      <td>2547</td>\n",
              "      <td>1</td>\n",
              "      <td>X52</td>\n",
              "      <td>0EM7L</td>\n",
              "      <td>1.0</td>\n",
              "      <td>3.13</td>\n",
              "    </tr>\n",
              "    <tr>\n",
              "      <th>1</th>\n",
              "      <td>2</td>\n",
              "      <td>2016-02-01</td>\n",
              "      <td>822</td>\n",
              "      <td>2</td>\n",
              "      <td>2ML</td>\n",
              "      <td>68BRQ</td>\n",
              "      <td>1.0</td>\n",
              "      <td>5.46</td>\n",
              "    </tr>\n",
              "    <tr>\n",
              "      <th>2</th>\n",
              "      <td>3</td>\n",
              "      <td>2016-02-01</td>\n",
              "      <td>3686</td>\n",
              "      <td>3</td>\n",
              "      <td>0H2</td>\n",
              "      <td>CZUZX</td>\n",
              "      <td>1.0</td>\n",
              "      <td>6.35</td>\n",
              "    </tr>\n",
              "    <tr>\n",
              "      <th>3</th>\n",
              "      <td>4</td>\n",
              "      <td>2016-02-01</td>\n",
              "      <td>3719</td>\n",
              "      <td>4</td>\n",
              "      <td>0H2</td>\n",
              "      <td>549KK</td>\n",
              "      <td>1.0</td>\n",
              "      <td>5.59</td>\n",
              "    </tr>\n",
              "    <tr>\n",
              "      <th>4</th>\n",
              "      <td>5</td>\n",
              "      <td>2016-02-01</td>\n",
              "      <td>9200</td>\n",
              "      <td>5</td>\n",
              "      <td>0H2</td>\n",
              "      <td>K8EHH</td>\n",
              "      <td>1.0</td>\n",
              "      <td>6.88</td>\n",
              "    </tr>\n",
              "  </tbody>\n",
              "</table>\n",
              "</div>"
            ],
            "text/plain": [
              "   Unnamed: 0       Date  Customer_ID  ...    SKU Quantity Sales_Amount\n",
              "0           1 2016-02-01         2547  ...  0EM7L      1.0         3.13\n",
              "1           2 2016-02-01          822  ...  68BRQ      1.0         5.46\n",
              "2           3 2016-02-01         3686  ...  CZUZX      1.0         6.35\n",
              "3           4 2016-02-01         3719  ...  549KK      1.0         5.59\n",
              "4           5 2016-02-01         9200  ...  K8EHH      1.0         6.88\n",
              "\n",
              "[5 rows x 8 columns]"
            ]
          },
          "metadata": {},
          "execution_count": 112
        }
      ]
    },
    {
      "cell_type": "code",
      "metadata": {
        "id": "9KXIHm3yNlJi"
      },
      "source": [
        "# Change column names to lower case\n",
        "df.columns = map(str.lower, df.columns)"
      ],
      "execution_count": null,
      "outputs": []
    },
    {
      "cell_type": "code",
      "metadata": {
        "colab": {
          "base_uri": "https://localhost:8080/"
        },
        "id": "k6_05o4qNojB",
        "outputId": "2625e658-b7b3-49d1-e3c2-1ac70463905e"
      },
      "source": [
        "# Overview of all variables, their datatypes\n",
        "df.info()"
      ],
      "execution_count": null,
      "outputs": [
        {
          "output_type": "stream",
          "text": [
            "<class 'pandas.core.frame.DataFrame'>\n",
            "RangeIndex: 131706 entries, 0 to 131705\n",
            "Data columns (total 8 columns):\n",
            " #   Column          Non-Null Count   Dtype         \n",
            "---  ------          --------------   -----         \n",
            " 0   unnamed: 0      131706 non-null  int64         \n",
            " 1   date            131706 non-null  datetime64[ns]\n",
            " 2   customer_id     131706 non-null  int64         \n",
            " 3   transaction_id  131706 non-null  int64         \n",
            " 4   sku_category    131706 non-null  object        \n",
            " 5   sku             131706 non-null  object        \n",
            " 6   quantity        131706 non-null  float64       \n",
            " 7   sales_amount    131706 non-null  float64       \n",
            "dtypes: datetime64[ns](1), float64(2), int64(3), object(2)\n",
            "memory usage: 8.0+ MB\n"
          ],
          "name": "stdout"
        }
      ]
    },
    {
      "cell_type": "code",
      "metadata": {
        "id": "f-j_tM7jNsIy"
      },
      "source": [
        "# Convert the quantity column to an int\n",
        "df['quantity'] = df['quantity'].apply(int)"
      ],
      "execution_count": null,
      "outputs": []
    },
    {
      "cell_type": "code",
      "metadata": {
        "colab": {
          "base_uri": "https://localhost:8080/"
        },
        "id": "EPjRw4anNvM8",
        "outputId": "f0b54210-5367-4c82-ffe9-5934e84a9fd8"
      },
      "source": [
        "df.info()"
      ],
      "execution_count": null,
      "outputs": [
        {
          "output_type": "stream",
          "text": [
            "<class 'pandas.core.frame.DataFrame'>\n",
            "RangeIndex: 131706 entries, 0 to 131705\n",
            "Data columns (total 8 columns):\n",
            " #   Column          Non-Null Count   Dtype         \n",
            "---  ------          --------------   -----         \n",
            " 0   unnamed: 0      131706 non-null  int64         \n",
            " 1   date            131706 non-null  datetime64[ns]\n",
            " 2   customer_id     131706 non-null  int64         \n",
            " 3   transaction_id  131706 non-null  int64         \n",
            " 4   sku_category    131706 non-null  object        \n",
            " 5   sku             131706 non-null  object        \n",
            " 6   quantity        131706 non-null  int64         \n",
            " 7   sales_amount    131706 non-null  float64       \n",
            "dtypes: datetime64[ns](1), float64(1), int64(4), object(2)\n",
            "memory usage: 8.0+ MB\n"
          ],
          "name": "stdout"
        }
      ]
    },
    {
      "cell_type": "code",
      "metadata": {
        "colab": {
          "base_uri": "https://localhost:8080/"
        },
        "id": "c0X6RXh1N4DS",
        "outputId": "b0264026-1c57-4372-dfac-f80c95f675fc"
      },
      "source": [
        "# Checking for missing values\n",
        "df.isnull().sum().sort_values(ascending = False)"
      ],
      "execution_count": null,
      "outputs": [
        {
          "output_type": "execute_result",
          "data": {
            "text/plain": [
              "sales_amount      0\n",
              "quantity          0\n",
              "sku               0\n",
              "sku_category      0\n",
              "transaction_id    0\n",
              "customer_id       0\n",
              "date              0\n",
              "unnamed: 0        0\n",
              "dtype: int64"
            ]
          },
          "metadata": {},
          "execution_count": 118
        }
      ]
    },
    {
      "cell_type": "code",
      "metadata": {
        "id": "5S4cvKOQN73c"
      },
      "source": [
        "# We keep only the relevant columns and drop duplicated values \n",
        "df = df[['customer_id', 'transaction_id', 'date']].drop_duplicates()"
      ],
      "execution_count": null,
      "outputs": []
    },
    {
      "cell_type": "markdown",
      "metadata": {
        "id": "erDIXF4spAxV"
      },
      "source": [
        "We want to split up our customers in groups based on the month that they became customer."
      ]
    },
    {
      "cell_type": "code",
      "metadata": {
        "id": "M520DW0SPmSE"
      },
      "source": [
        "# Group by customer_id and select only the date column\n",
        "## Take the earliest date of each customer and assign it back to the orignal dataset\n",
        "df['cohort_month'] = df.groupby('customer_id')['date'] \\\n",
        "                       .transform('min') \\\n",
        "                       .dt.to_period('M') "
      ],
      "execution_count": null,
      "outputs": []
    },
    {
      "cell_type": "code",
      "metadata": {
        "colab": {
          "base_uri": "https://localhost:8080/",
          "height": 204
        },
        "id": "BTMTjgdOafyz",
        "outputId": "d17d7bf2-1c86-4c67-e325-0b8ddf37d4a4"
      },
      "source": [
        "df.head()"
      ],
      "execution_count": null,
      "outputs": [
        {
          "output_type": "execute_result",
          "data": {
            "text/html": [
              "<div>\n",
              "<style scoped>\n",
              "    .dataframe tbody tr th:only-of-type {\n",
              "        vertical-align: middle;\n",
              "    }\n",
              "\n",
              "    .dataframe tbody tr th {\n",
              "        vertical-align: top;\n",
              "    }\n",
              "\n",
              "    .dataframe thead th {\n",
              "        text-align: right;\n",
              "    }\n",
              "</style>\n",
              "<table border=\"1\" class=\"dataframe\">\n",
              "  <thead>\n",
              "    <tr style=\"text-align: right;\">\n",
              "      <th></th>\n",
              "      <th>customer_id</th>\n",
              "      <th>transaction_id</th>\n",
              "      <th>date</th>\n",
              "      <th>cohort_month</th>\n",
              "    </tr>\n",
              "  </thead>\n",
              "  <tbody>\n",
              "    <tr>\n",
              "      <th>0</th>\n",
              "      <td>2547</td>\n",
              "      <td>1</td>\n",
              "      <td>2016-02-01</td>\n",
              "      <td>2016-01</td>\n",
              "    </tr>\n",
              "    <tr>\n",
              "      <th>1</th>\n",
              "      <td>822</td>\n",
              "      <td>2</td>\n",
              "      <td>2016-02-01</td>\n",
              "      <td>2016-01</td>\n",
              "    </tr>\n",
              "    <tr>\n",
              "      <th>2</th>\n",
              "      <td>3686</td>\n",
              "      <td>3</td>\n",
              "      <td>2016-02-01</td>\n",
              "      <td>2016-01</td>\n",
              "    </tr>\n",
              "    <tr>\n",
              "      <th>3</th>\n",
              "      <td>3719</td>\n",
              "      <td>4</td>\n",
              "      <td>2016-02-01</td>\n",
              "      <td>2016-01</td>\n",
              "    </tr>\n",
              "    <tr>\n",
              "      <th>4</th>\n",
              "      <td>9200</td>\n",
              "      <td>5</td>\n",
              "      <td>2016-02-01</td>\n",
              "      <td>2016-02</td>\n",
              "    </tr>\n",
              "  </tbody>\n",
              "</table>\n",
              "</div>"
            ],
            "text/plain": [
              "   customer_id  transaction_id       date cohort_month\n",
              "0         2547               1 2016-02-01      2016-01\n",
              "1          822               2 2016-02-01      2016-01\n",
              "2         3686               3 2016-02-01      2016-01\n",
              "3         3719               4 2016-02-01      2016-01\n",
              "4         9200               5 2016-02-01      2016-02"
            ]
          },
          "metadata": {},
          "execution_count": 121
        }
      ]
    },
    {
      "cell_type": "code",
      "metadata": {
        "id": "idAESX-SrHdZ"
      },
      "source": [
        "# We find the truncated month of the purchase date\n",
        "df['order_month'] = df['date'].dt.to_period('M')"
      ],
      "execution_count": null,
      "outputs": []
    },
    {
      "cell_type": "code",
      "metadata": {
        "colab": {
          "base_uri": "https://localhost:8080/",
          "height": 204
        },
        "id": "nUyvvxZdPGec",
        "outputId": "7e367af5-ee18-4ef7-8419-ced5d840f1dc"
      },
      "source": [
        "df.head()"
      ],
      "execution_count": null,
      "outputs": [
        {
          "output_type": "execute_result",
          "data": {
            "text/html": [
              "<div>\n",
              "<style scoped>\n",
              "    .dataframe tbody tr th:only-of-type {\n",
              "        vertical-align: middle;\n",
              "    }\n",
              "\n",
              "    .dataframe tbody tr th {\n",
              "        vertical-align: top;\n",
              "    }\n",
              "\n",
              "    .dataframe thead th {\n",
              "        text-align: right;\n",
              "    }\n",
              "</style>\n",
              "<table border=\"1\" class=\"dataframe\">\n",
              "  <thead>\n",
              "    <tr style=\"text-align: right;\">\n",
              "      <th></th>\n",
              "      <th>customer_id</th>\n",
              "      <th>transaction_id</th>\n",
              "      <th>date</th>\n",
              "      <th>cohort_month</th>\n",
              "      <th>order_month</th>\n",
              "    </tr>\n",
              "  </thead>\n",
              "  <tbody>\n",
              "    <tr>\n",
              "      <th>0</th>\n",
              "      <td>2547</td>\n",
              "      <td>1</td>\n",
              "      <td>2016-02-01</td>\n",
              "      <td>2016-01</td>\n",
              "      <td>2016-02</td>\n",
              "    </tr>\n",
              "    <tr>\n",
              "      <th>1</th>\n",
              "      <td>822</td>\n",
              "      <td>2</td>\n",
              "      <td>2016-02-01</td>\n",
              "      <td>2016-01</td>\n",
              "      <td>2016-02</td>\n",
              "    </tr>\n",
              "    <tr>\n",
              "      <th>2</th>\n",
              "      <td>3686</td>\n",
              "      <td>3</td>\n",
              "      <td>2016-02-01</td>\n",
              "      <td>2016-01</td>\n",
              "      <td>2016-02</td>\n",
              "    </tr>\n",
              "    <tr>\n",
              "      <th>3</th>\n",
              "      <td>3719</td>\n",
              "      <td>4</td>\n",
              "      <td>2016-02-01</td>\n",
              "      <td>2016-01</td>\n",
              "      <td>2016-02</td>\n",
              "    </tr>\n",
              "    <tr>\n",
              "      <th>4</th>\n",
              "      <td>9200</td>\n",
              "      <td>5</td>\n",
              "      <td>2016-02-01</td>\n",
              "      <td>2016-02</td>\n",
              "      <td>2016-02</td>\n",
              "    </tr>\n",
              "  </tbody>\n",
              "</table>\n",
              "</div>"
            ],
            "text/plain": [
              "   customer_id  transaction_id       date cohort_month order_month\n",
              "0         2547               1 2016-02-01      2016-01     2016-02\n",
              "1          822               2 2016-02-01      2016-01     2016-02\n",
              "2         3686               3 2016-02-01      2016-01     2016-02\n",
              "3         3719               4 2016-02-01      2016-01     2016-02\n",
              "4         9200               5 2016-02-01      2016-02     2016-02"
            ]
          },
          "metadata": {},
          "execution_count": 123
        }
      ]
    },
    {
      "cell_type": "markdown",
      "metadata": {
        "id": "n_Mg7s1Ja2XM"
      },
      "source": [
        "Then, we aggregate the data per cohort_month and order_month and count the number of unique customers in each group. Additionally, we add the period_number, which indicates the number of periods between the cohort month and the month of the purchase."
      ]
    },
    {
      "cell_type": "code",
      "metadata": {
        "id": "n7AA1_e3QmQe"
      },
      "source": [
        "df_cohort = df.groupby(['cohort_month', 'order_month']) \\\n",
        "              .agg(n_customers = ('customer_id', 'nunique')) \\\n",
        "              .reset_index(drop = False)"
      ],
      "execution_count": null,
      "outputs": []
    },
    {
      "cell_type": "code",
      "metadata": {
        "colab": {
          "base_uri": "https://localhost:8080/",
          "height": 204
        },
        "id": "ir4CKggWZP-5",
        "outputId": "5f33bfe3-8893-4f25-d45f-76d6c704bc53"
      },
      "source": [
        "df_cohort.head()"
      ],
      "execution_count": null,
      "outputs": [
        {
          "output_type": "execute_result",
          "data": {
            "text/html": [
              "<div>\n",
              "<style scoped>\n",
              "    .dataframe tbody tr th:only-of-type {\n",
              "        vertical-align: middle;\n",
              "    }\n",
              "\n",
              "    .dataframe tbody tr th {\n",
              "        vertical-align: top;\n",
              "    }\n",
              "\n",
              "    .dataframe thead th {\n",
              "        text-align: right;\n",
              "    }\n",
              "</style>\n",
              "<table border=\"1\" class=\"dataframe\">\n",
              "  <thead>\n",
              "    <tr style=\"text-align: right;\">\n",
              "      <th></th>\n",
              "      <th>cohort_month</th>\n",
              "      <th>order_month</th>\n",
              "      <th>n_customers</th>\n",
              "    </tr>\n",
              "  </thead>\n",
              "  <tbody>\n",
              "    <tr>\n",
              "      <th>0</th>\n",
              "      <td>2016-01</td>\n",
              "      <td>2016-01</td>\n",
              "      <td>3817</td>\n",
              "    </tr>\n",
              "    <tr>\n",
              "      <th>1</th>\n",
              "      <td>2016-01</td>\n",
              "      <td>2016-02</td>\n",
              "      <td>1104</td>\n",
              "    </tr>\n",
              "    <tr>\n",
              "      <th>2</th>\n",
              "      <td>2016-01</td>\n",
              "      <td>2016-03</td>\n",
              "      <td>971</td>\n",
              "    </tr>\n",
              "    <tr>\n",
              "      <th>3</th>\n",
              "      <td>2016-01</td>\n",
              "      <td>2016-04</td>\n",
              "      <td>899</td>\n",
              "    </tr>\n",
              "    <tr>\n",
              "      <th>4</th>\n",
              "      <td>2016-01</td>\n",
              "      <td>2016-05</td>\n",
              "      <td>823</td>\n",
              "    </tr>\n",
              "  </tbody>\n",
              "</table>\n",
              "</div>"
            ],
            "text/plain": [
              "  cohort_month order_month  n_customers\n",
              "0      2016-01     2016-01         3817\n",
              "1      2016-01     2016-02         1104\n",
              "2      2016-01     2016-03          971\n",
              "3      2016-01     2016-04          899\n",
              "4      2016-01     2016-05          823"
            ]
          },
          "metadata": {},
          "execution_count": 125
        }
      ]
    },
    {
      "cell_type": "code",
      "metadata": {
        "id": "qTXTaLGwZRwT"
      },
      "source": [
        "df_cohort['period_number'] = (df_cohort.order_month - df_cohort.cohort_month).apply(attrgetter('n'))"
      ],
      "execution_count": null,
      "outputs": []
    },
    {
      "cell_type": "code",
      "metadata": {
        "colab": {
          "base_uri": "https://localhost:8080/",
          "height": 204
        },
        "id": "Tc0mZoqCbFPg",
        "outputId": "5fffedeb-fa88-4905-bbbd-37f40ec62347"
      },
      "source": [
        "df_cohort.head()"
      ],
      "execution_count": null,
      "outputs": [
        {
          "output_type": "execute_result",
          "data": {
            "text/html": [
              "<div>\n",
              "<style scoped>\n",
              "    .dataframe tbody tr th:only-of-type {\n",
              "        vertical-align: middle;\n",
              "    }\n",
              "\n",
              "    .dataframe tbody tr th {\n",
              "        vertical-align: top;\n",
              "    }\n",
              "\n",
              "    .dataframe thead th {\n",
              "        text-align: right;\n",
              "    }\n",
              "</style>\n",
              "<table border=\"1\" class=\"dataframe\">\n",
              "  <thead>\n",
              "    <tr style=\"text-align: right;\">\n",
              "      <th></th>\n",
              "      <th>cohort_month</th>\n",
              "      <th>order_month</th>\n",
              "      <th>n_customers</th>\n",
              "      <th>period_number</th>\n",
              "    </tr>\n",
              "  </thead>\n",
              "  <tbody>\n",
              "    <tr>\n",
              "      <th>0</th>\n",
              "      <td>2016-01</td>\n",
              "      <td>2016-01</td>\n",
              "      <td>3817</td>\n",
              "      <td>0</td>\n",
              "    </tr>\n",
              "    <tr>\n",
              "      <th>1</th>\n",
              "      <td>2016-01</td>\n",
              "      <td>2016-02</td>\n",
              "      <td>1104</td>\n",
              "      <td>1</td>\n",
              "    </tr>\n",
              "    <tr>\n",
              "      <th>2</th>\n",
              "      <td>2016-01</td>\n",
              "      <td>2016-03</td>\n",
              "      <td>971</td>\n",
              "      <td>2</td>\n",
              "    </tr>\n",
              "    <tr>\n",
              "      <th>3</th>\n",
              "      <td>2016-01</td>\n",
              "      <td>2016-04</td>\n",
              "      <td>899</td>\n",
              "      <td>3</td>\n",
              "    </tr>\n",
              "    <tr>\n",
              "      <th>4</th>\n",
              "      <td>2016-01</td>\n",
              "      <td>2016-05</td>\n",
              "      <td>823</td>\n",
              "      <td>4</td>\n",
              "    </tr>\n",
              "  </tbody>\n",
              "</table>\n",
              "</div>"
            ],
            "text/plain": [
              "  cohort_month order_month  n_customers  period_number\n",
              "0      2016-01     2016-01         3817              0\n",
              "1      2016-01     2016-02         1104              1\n",
              "2      2016-01     2016-03          971              2\n",
              "3      2016-01     2016-04          899              3\n",
              "4      2016-01     2016-05          823              4"
            ]
          },
          "metadata": {},
          "execution_count": 127
        }
      ]
    },
    {
      "cell_type": "markdown",
      "metadata": {
        "id": "8fiNXDLxbVKM"
      },
      "source": [
        "The next step is to pivot the df_cohort table in a way that each row contains information about a given cohort and each column contains values for a certain period."
      ]
    },
    {
      "cell_type": "code",
      "metadata": {
        "id": "YUx8E6HqbG7Z"
      },
      "source": [
        "# Create a pivot\n",
        "cohort_pivot = df_cohort.pivot_table(index = 'cohort_month', columns = 'period_number', values = 'n_customers')"
      ],
      "execution_count": null,
      "outputs": []
    },
    {
      "cell_type": "code",
      "metadata": {
        "colab": {
          "base_uri": "https://localhost:8080/",
          "height": 235
        },
        "id": "1vQ6rCOpbQPR",
        "outputId": "cde56f73-0a75-444b-fead-5d8ca88f2e31"
      },
      "source": [
        "cohort_pivot.head()"
      ],
      "execution_count": null,
      "outputs": [
        {
          "output_type": "execute_result",
          "data": {
            "text/html": [
              "<div>\n",
              "<style scoped>\n",
              "    .dataframe tbody tr th:only-of-type {\n",
              "        vertical-align: middle;\n",
              "    }\n",
              "\n",
              "    .dataframe tbody tr th {\n",
              "        vertical-align: top;\n",
              "    }\n",
              "\n",
              "    .dataframe thead th {\n",
              "        text-align: right;\n",
              "    }\n",
              "</style>\n",
              "<table border=\"1\" class=\"dataframe\">\n",
              "  <thead>\n",
              "    <tr style=\"text-align: right;\">\n",
              "      <th>period_number</th>\n",
              "      <th>0</th>\n",
              "      <th>1</th>\n",
              "      <th>2</th>\n",
              "      <th>3</th>\n",
              "      <th>4</th>\n",
              "      <th>5</th>\n",
              "      <th>6</th>\n",
              "      <th>7</th>\n",
              "      <th>8</th>\n",
              "      <th>9</th>\n",
              "      <th>10</th>\n",
              "      <th>11</th>\n",
              "    </tr>\n",
              "    <tr>\n",
              "      <th>cohort_month</th>\n",
              "      <th></th>\n",
              "      <th></th>\n",
              "      <th></th>\n",
              "      <th></th>\n",
              "      <th></th>\n",
              "      <th></th>\n",
              "      <th></th>\n",
              "      <th></th>\n",
              "      <th></th>\n",
              "      <th></th>\n",
              "      <th></th>\n",
              "      <th></th>\n",
              "    </tr>\n",
              "  </thead>\n",
              "  <tbody>\n",
              "    <tr>\n",
              "      <th>2016-01</th>\n",
              "      <td>3817.0</td>\n",
              "      <td>1104.0</td>\n",
              "      <td>971.0</td>\n",
              "      <td>899.0</td>\n",
              "      <td>823.0</td>\n",
              "      <td>697.0</td>\n",
              "      <td>718.0</td>\n",
              "      <td>723.0</td>\n",
              "      <td>701.0</td>\n",
              "      <td>635.0</td>\n",
              "      <td>697.0</td>\n",
              "      <td>716.0</td>\n",
              "    </tr>\n",
              "    <tr>\n",
              "      <th>2016-02</th>\n",
              "      <td>2759.0</td>\n",
              "      <td>550.0</td>\n",
              "      <td>515.0</td>\n",
              "      <td>511.0</td>\n",
              "      <td>436.0</td>\n",
              "      <td>420.0</td>\n",
              "      <td>444.0</td>\n",
              "      <td>457.0</td>\n",
              "      <td>448.0</td>\n",
              "      <td>463.0</td>\n",
              "      <td>435.0</td>\n",
              "      <td>NaN</td>\n",
              "    </tr>\n",
              "    <tr>\n",
              "      <th>2016-03</th>\n",
              "      <td>2619.0</td>\n",
              "      <td>568.0</td>\n",
              "      <td>532.0</td>\n",
              "      <td>479.0</td>\n",
              "      <td>476.0</td>\n",
              "      <td>456.0</td>\n",
              "      <td>469.0</td>\n",
              "      <td>466.0</td>\n",
              "      <td>459.0</td>\n",
              "      <td>505.0</td>\n",
              "      <td>NaN</td>\n",
              "      <td>NaN</td>\n",
              "    </tr>\n",
              "    <tr>\n",
              "      <th>2016-04</th>\n",
              "      <td>2292.0</td>\n",
              "      <td>436.0</td>\n",
              "      <td>399.0</td>\n",
              "      <td>366.0</td>\n",
              "      <td>368.0</td>\n",
              "      <td>416.0</td>\n",
              "      <td>363.0</td>\n",
              "      <td>391.0</td>\n",
              "      <td>389.0</td>\n",
              "      <td>NaN</td>\n",
              "      <td>NaN</td>\n",
              "      <td>NaN</td>\n",
              "    </tr>\n",
              "    <tr>\n",
              "      <th>2016-05</th>\n",
              "      <td>2180.0</td>\n",
              "      <td>315.0</td>\n",
              "      <td>314.0</td>\n",
              "      <td>292.0</td>\n",
              "      <td>321.0</td>\n",
              "      <td>336.0</td>\n",
              "      <td>310.0</td>\n",
              "      <td>325.0</td>\n",
              "      <td>NaN</td>\n",
              "      <td>NaN</td>\n",
              "      <td>NaN</td>\n",
              "      <td>NaN</td>\n",
              "    </tr>\n",
              "  </tbody>\n",
              "</table>\n",
              "</div>"
            ],
            "text/plain": [
              "period_number      0       1      2      3   ...     8      9      10     11\n",
              "cohort_month                                 ...                            \n",
              "2016-01        3817.0  1104.0  971.0  899.0  ...  701.0  635.0  697.0  716.0\n",
              "2016-02        2759.0   550.0  515.0  511.0  ...  448.0  463.0  435.0    NaN\n",
              "2016-03        2619.0   568.0  532.0  479.0  ...  459.0  505.0    NaN    NaN\n",
              "2016-04        2292.0   436.0  399.0  366.0  ...  389.0    NaN    NaN    NaN\n",
              "2016-05        2180.0   315.0  314.0  292.0  ...    NaN    NaN    NaN    NaN\n",
              "\n",
              "[5 rows x 12 columns]"
            ]
          },
          "metadata": {},
          "execution_count": 129
        }
      ]
    },
    {
      "cell_type": "markdown",
      "metadata": {
        "id": "5-6oFWYYbk52"
      },
      "source": [
        "To obtain the retention matrix, we need to divide the values each row by the row's first value, which is actually the cohort size — all customers who made their first purchase in the given month.\n",
        "\n",
        "Retention rate = # customers current period / # customers starting period\n"
      ]
    },
    {
      "cell_type": "code",
      "metadata": {
        "id": "Xzyc6_epbldk"
      },
      "source": [
        "# Select the first column and store it to cohort_sizes\n",
        "cohort_size = cohort_pivot.iloc[:,0]"
      ],
      "execution_count": null,
      "outputs": []
    },
    {
      "cell_type": "code",
      "metadata": {
        "id": "UgUxonX-bo4a"
      },
      "source": [
        "# Divide the cohort count by cohort sizes along the rows\n",
        "retention_matrix = cohort_pivot.divide(cohort_size, axis = 0)"
      ],
      "execution_count": null,
      "outputs": []
    },
    {
      "cell_type": "code",
      "metadata": {
        "colab": {
          "base_uri": "https://localhost:8080/",
          "height": 235
        },
        "id": "m9wE4RxgbtNv",
        "outputId": "86ee1c55-c6da-4f3b-e272-f622db6f536f"
      },
      "source": [
        "retention_matrix.head()"
      ],
      "execution_count": null,
      "outputs": [
        {
          "output_type": "execute_result",
          "data": {
            "text/html": [
              "<div>\n",
              "<style scoped>\n",
              "    .dataframe tbody tr th:only-of-type {\n",
              "        vertical-align: middle;\n",
              "    }\n",
              "\n",
              "    .dataframe tbody tr th {\n",
              "        vertical-align: top;\n",
              "    }\n",
              "\n",
              "    .dataframe thead th {\n",
              "        text-align: right;\n",
              "    }\n",
              "</style>\n",
              "<table border=\"1\" class=\"dataframe\">\n",
              "  <thead>\n",
              "    <tr style=\"text-align: right;\">\n",
              "      <th>period_number</th>\n",
              "      <th>0</th>\n",
              "      <th>1</th>\n",
              "      <th>2</th>\n",
              "      <th>3</th>\n",
              "      <th>4</th>\n",
              "      <th>5</th>\n",
              "      <th>6</th>\n",
              "      <th>7</th>\n",
              "      <th>8</th>\n",
              "      <th>9</th>\n",
              "      <th>10</th>\n",
              "      <th>11</th>\n",
              "    </tr>\n",
              "    <tr>\n",
              "      <th>cohort_month</th>\n",
              "      <th></th>\n",
              "      <th></th>\n",
              "      <th></th>\n",
              "      <th></th>\n",
              "      <th></th>\n",
              "      <th></th>\n",
              "      <th></th>\n",
              "      <th></th>\n",
              "      <th></th>\n",
              "      <th></th>\n",
              "      <th></th>\n",
              "      <th></th>\n",
              "    </tr>\n",
              "  </thead>\n",
              "  <tbody>\n",
              "    <tr>\n",
              "      <th>2016-01</th>\n",
              "      <td>1.0</td>\n",
              "      <td>0.289232</td>\n",
              "      <td>0.254388</td>\n",
              "      <td>0.235525</td>\n",
              "      <td>0.215614</td>\n",
              "      <td>0.182604</td>\n",
              "      <td>0.188106</td>\n",
              "      <td>0.189416</td>\n",
              "      <td>0.183652</td>\n",
              "      <td>0.166361</td>\n",
              "      <td>0.182604</td>\n",
              "      <td>0.187582</td>\n",
              "    </tr>\n",
              "    <tr>\n",
              "      <th>2016-02</th>\n",
              "      <td>1.0</td>\n",
              "      <td>0.199348</td>\n",
              "      <td>0.186662</td>\n",
              "      <td>0.185212</td>\n",
              "      <td>0.158028</td>\n",
              "      <td>0.152229</td>\n",
              "      <td>0.160928</td>\n",
              "      <td>0.165640</td>\n",
              "      <td>0.162378</td>\n",
              "      <td>0.167814</td>\n",
              "      <td>0.157666</td>\n",
              "      <td>NaN</td>\n",
              "    </tr>\n",
              "    <tr>\n",
              "      <th>2016-03</th>\n",
              "      <td>1.0</td>\n",
              "      <td>0.216877</td>\n",
              "      <td>0.203131</td>\n",
              "      <td>0.182894</td>\n",
              "      <td>0.181749</td>\n",
              "      <td>0.174112</td>\n",
              "      <td>0.179076</td>\n",
              "      <td>0.177931</td>\n",
              "      <td>0.175258</td>\n",
              "      <td>0.192822</td>\n",
              "      <td>NaN</td>\n",
              "      <td>NaN</td>\n",
              "    </tr>\n",
              "    <tr>\n",
              "      <th>2016-04</th>\n",
              "      <td>1.0</td>\n",
              "      <td>0.190227</td>\n",
              "      <td>0.174084</td>\n",
              "      <td>0.159686</td>\n",
              "      <td>0.160558</td>\n",
              "      <td>0.181501</td>\n",
              "      <td>0.158377</td>\n",
              "      <td>0.170593</td>\n",
              "      <td>0.169721</td>\n",
              "      <td>NaN</td>\n",
              "      <td>NaN</td>\n",
              "      <td>NaN</td>\n",
              "    </tr>\n",
              "    <tr>\n",
              "      <th>2016-05</th>\n",
              "      <td>1.0</td>\n",
              "      <td>0.144495</td>\n",
              "      <td>0.144037</td>\n",
              "      <td>0.133945</td>\n",
              "      <td>0.147248</td>\n",
              "      <td>0.154128</td>\n",
              "      <td>0.142202</td>\n",
              "      <td>0.149083</td>\n",
              "      <td>NaN</td>\n",
              "      <td>NaN</td>\n",
              "      <td>NaN</td>\n",
              "      <td>NaN</td>\n",
              "    </tr>\n",
              "  </tbody>\n",
              "</table>\n",
              "</div>"
            ],
            "text/plain": [
              "period_number   0         1         2   ...        9         10        11\n",
              "cohort_month                            ...                              \n",
              "2016-01        1.0  0.289232  0.254388  ...  0.166361  0.182604  0.187582\n",
              "2016-02        1.0  0.199348  0.186662  ...  0.167814  0.157666       NaN\n",
              "2016-03        1.0  0.216877  0.203131  ...  0.192822       NaN       NaN\n",
              "2016-04        1.0  0.190227  0.174084  ...       NaN       NaN       NaN\n",
              "2016-05        1.0  0.144495  0.144037  ...       NaN       NaN       NaN\n",
              "\n",
              "[5 rows x 12 columns]"
            ]
          },
          "metadata": {},
          "execution_count": 132
        }
      ]
    },
    {
      "cell_type": "code",
      "metadata": {
        "colab": {
          "base_uri": "https://localhost:8080/",
          "height": 585
        },
        "id": "Hc7dUw6uw7YQ",
        "outputId": "01980eba-5261-4a72-af33-8283ae423b04"
      },
      "source": [
        "with sns.axes_style('white'):\n",
        "    fig, ax = plt.subplots(1, 2, figsize=(12, 8), sharey = True, gridspec_kw = {'width_ratios': [1, 11]})\n",
        "    \n",
        "    # Retention matrix\n",
        "    sns.heatmap(retention_matrix, \n",
        "                mask = retention_matrix.isnull(), \n",
        "                annot = True, \n",
        "                fmt = '.0%', \n",
        "                cmap = 'RdYlGn', \n",
        "                ax=ax[1])\n",
        "    ax[1].set_title('Monthly Cohorts: User Retention', fontsize = 14, pad = 10)\n",
        "    ax[1].set(xlabel = '# of periods',\n",
        "              ylabel = '')\n",
        "\n",
        "    # Cohort size\n",
        "    cohort_size_df = pd.DataFrame(cohort_size).rename(columns = {0: 'cohort_size'})\n",
        "    white_cmap = mcolors.ListedColormap(['white'])\n",
        "    sns.heatmap(cohort_size_df, \n",
        "                annot = True, \n",
        "                cbar = False, \n",
        "                fmt = 'g', \n",
        "                cmap = white_cmap, \n",
        "                ax = ax[0])\n",
        "\n",
        "    fig.tight_layout()"
      ],
      "execution_count": null,
      "outputs": [
        {
          "output_type": "display_data",
          "data": {
            "image/png": "[encoded data removed]",
            "text/plain": [
              "<Figure size 864x576 with 3 Axes>"
            ]
          },
          "metadata": {}
        }
      ]
    },
    {
      "cell_type": "markdown",
      "metadata": {
        "id": "JibNZFIq0KDc"
      },
      "source": [
        "* In the image, we can see that there is a sharp drop-off in the second month (indexed as 1) already, on average around 85% of customers do not make any purchase in the second month. \n",
        "\n",
        "* Customers acquired later on are churning faster. Of the people that became our customer in November, only 9% of the customers made a purchase 1 months after their initial purchase.\n",
        "\n",
        "* Overall, the retention matrix showed a slow downward trend in the retention rate after the initial plunge."
      ]
    }
  ]
}